{
 "cells": [
  {
   "cell_type": "markdown",
   "id": "6a6857b586072514",
   "metadata": {},
   "source": [
    " # Graph Exploring\n",
    " Simple notebook to load and query the JSON-LD documents.\n",
    " "
   ]
  },
  {
   "cell_type": "code",
   "execution_count": 1,
   "id": "2882bcf2-836c-453c-96fb-f0e634887de6",
   "metadata": {
    "tags": []
   },
   "outputs": [
    {
     "name": "stdout",
     "output_type": "stream",
     "text": [
      "The graph_notebook.magics extension is already loaded. To reload it, use:\n",
      "  %reload_ext graph_notebook.magics\n"
     ]
    }
   ],
   "source": [
    "%load_ext graph_notebook.magics"
   ]
  },
  {
   "cell_type": "code",
   "execution_count": 14,
   "id": "initial_id",
   "metadata": {
    "tags": []
   },
   "outputs": [
    {
     "name": "stdout",
     "output_type": "stream",
     "text": [
      "set notebook config to:\n",
      "{\n",
      "  \"host\": \"blaze.provisium.io\",\n",
      "  \"port\": 443,\n",
      "  \"proxy_host\": \"\",\n",
      "  \"proxy_port\": 8182,\n",
      "  \"ssl\": true,\n",
      "  \"ssl_verify\": true,\n",
      "  \"sparql\": {\n",
      "    \"path\": \"blazegraph/namespace/inspiretest/sparql\"\n",
      "  },\n",
      "  \"gremlin\": {\n",
      "    \"traversal_source\": \"g\",\n",
      "    \"username\": \"\",\n",
      "    \"password\": \"\",\n",
      "    \"message_serializer\": \"graphsonv3\"\n",
      "  },\n",
      "  \"neo4j\": {\n",
      "    \"username\": \"neo4j\",\n",
      "    \"password\": \"password\",\n",
      "    \"auth\": true,\n",
      "    \"database\": null\n",
      "  }\n",
      "}\n"
     ]
    },
    {
     "data": {
      "text/plain": [
       "<graph_notebook.configuration.generate_config.Configuration at 0x7ff98a8c82b0>"
      ]
     },
     "execution_count": 14,
     "metadata": {},
     "output_type": "execute_result"
    }
   ],
   "source": [
    "%%graph_notebook_config\n",
    "\n",
    "{\n",
    "  \"host\": \"blaze.provisium.io\",\n",
    "  \"port\": 443,\n",
    "  \"ssl\": true,\n",
    "  \"sparql\": {\n",
    "    \"path\": \"blazegraph/namespace/inspiretest/sparql\"\n",
    "  }\n",
    "}"
   ]
  },
  {
   "cell_type": "code",
   "execution_count": 25,
   "id": "05836b65-fbfe-4af5-a93a-4159d3444cf2",
   "metadata": {
    "tags": []
   },
   "outputs": [
    {
     "data": {
      "application/vnd.jupyter.widget-view+json": {
       "model_id": "164296888719403f9cbaf393020f59cf",
       "version_major": 2,
       "version_minor": 0
      },
      "text/plain": [
       "Tab(children=(Output(layout=Layout(max_height='600px', max_width='940px', overflow='scroll')), Force(network=<…"
      ]
     },
     "metadata": {},
     "output_type": "display_data"
    }
   ],
   "source": [
    "%%sparql --expand-all\n",
    "prefix schema: <http://schema.org/>\n",
    "prefix aphrc: <http://example.org/voc/aphrc/>\n",
    "prefix ohdsi: <http://example.org/voc/ohdsi/>\n",
    "\n",
    "SELECT ?s ?p ?o WHERE {?s ?p ?o} LIMIT 1000"
   ]
  },
  {
   "cell_type": "code",
   "execution_count": 23,
   "id": "40380a16-fbf7-47d1-9684-4985a8683e8f",
   "metadata": {},
   "outputs": [
    {
     "data": {
      "application/vnd.jupyter.widget-view+json": {
       "model_id": "af2e5758a8924cd382548d96b202f8d8",
       "version_major": 2,
       "version_minor": 0
      },
      "text/plain": [
       "Tab(children=(Output(layout=Layout(max_height='600px', max_width='940px', overflow='scroll')), Output(layout=L…"
      ]
     },
     "metadata": {},
     "output_type": "display_data"
    }
   ],
   "source": [
    "%%sparql\n",
    "prefix schema: <http://schema.org/>\n",
    "prefix aphrc: <http://example.org/voc/aphrc/>\n",
    "prefix ohdsi: <http://example.org/voc/ohdsi/>\n",
    "\n",
    "SELECT ?s ?p2 ?ap ?p1 ?am\n",
    "WHERE {\n",
    "  ?s ?p2 ?ap .\n",
    "  ?ap ?pl ?am .\n",
    "}\n"
   ]
  },
  {
   "cell_type": "code",
   "execution_count": null,
   "id": "6ab812f6-7911-409c-b7c5-a41c27d018e8",
   "metadata": {},
   "outputs": [],
   "source": []
  }
 ],
 "metadata": {
  "kernelspec": {
   "display_name": "Python 3",
   "language": "python",
   "name": "python3"
  },
  "language_info": {
   "codemirror_mode": {
    "name": "ipython",
    "version": 3
   },
   "file_extension": ".py",
   "mimetype": "text/x-python",
   "name": "python",
   "nbconvert_exporter": "python",
   "pygments_lexer": "ipython3",
   "version": "3.10.12"
  }
 },
 "nbformat": 4,
 "nbformat_minor": 5
}
