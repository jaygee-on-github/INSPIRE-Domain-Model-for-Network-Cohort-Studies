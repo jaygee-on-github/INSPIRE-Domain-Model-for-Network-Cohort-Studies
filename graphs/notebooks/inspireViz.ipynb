{
 "cells": [
  {
   "cell_type": "markdown",
   "id": "f3e6d6344164a35f",
   "metadata": {},
   "source": [
    "# Graph Visualization\n",
    "\n",
    "<a href=\"https://githubtocolab.com/gleanerio/archetype/blob/master/networks/commons/notebooks/networkViz.ipynb\" target=\"_parent\"><img src=\"https://colab.research.google.com/assets/colab-badge.png\" alt=\"Open in Colab\"/></a>"
   ]
  },
  {
   "cell_type": "markdown",
   "id": "a93b42e26bbe4d49",
   "metadata": {},
   "source": [
    "## requirements.txt\n"
   ]
  },
  {
   "cell_type": "code",
   "execution_count": null,
   "id": "491673eea3c08f57",
   "metadata": {
    "collapsed": false,
    "jupyter": {
     "outputs_hidden": false
    }
   },
   "outputs": [],
   "source": [
    "!pip install -q minio\n",
    "!pip install -q kglab\n",
    "!pip install -q sparqlwrapper\n",
    "!pip install -q pygraphml\n",
    "!pip install -q ipysigma"
   ]
  },
  {
   "cell_type": "code",
   "execution_count": 1,
   "id": "73ae8326ecb53b81",
   "metadata": {
    "ExecuteTime": {
     "end_time": "2024-01-04T15:14:33.169122275Z",
     "start_time": "2024-01-04T15:14:33.165947664Z"
    },
    "collapsed": false,
    "jupyter": {
     "outputs_hidden": false
    },
    "tags": []
   },
   "outputs": [],
   "source": [
    "import warnings\n",
    "warnings.simplefilter(action='ignore', category=FutureWarning)  ## remove pandas future warning\n",
    "import kglab\n",
    "from minio import Minio\n",
    "from rdflib import Graph, plugin\n",
    "import plotly.express as px\n",
    "import pandas as pd\n",
    "from urllib.request import urlopen\n",
    "import os,json\n",
    "\n",
    "from pygraphml import GraphMLParser\n",
    "from pygraphml import Graph as GraphML \n",
    "import networkx as nx\n",
    "from ipysigma import Sigma\n",
    "from SPARQLWrapper import SPARQLWrapper, JSON\n",
    "from hashlib import sha256"
   ]
  },
  {
   "cell_type": "code",
   "execution_count": 2,
   "id": "9dbf0a59-42e1-4108-a7ef-dae3cfed22ff",
   "metadata": {
    "tags": []
   },
   "outputs": [],
   "source": [
    "def hash_text(text):\n",
    "    return sha256(text.encode()).hexdigest()[:8]"
   ]
  },
  {
   "cell_type": "code",
   "execution_count": 3,
   "id": "10a8925854cddf20",
   "metadata": {
    "ExecuteTime": {
     "end_time": "2024-01-04T15:14:34.202992757Z",
     "start_time": "2024-01-04T15:14:34.197832829Z"
    },
    "collapsed": false,
    "jupyter": {
     "outputs_hidden": false
    },
    "tags": []
   },
   "outputs": [],
   "source": [
    "## Remote SPARQL server\n",
    "#@title\n",
    "def get_sparql_dataframe(service, query):\n",
    "    \"\"\"\n",
    "    Helper function to convert SPARQL results into a Pandas data frame.\n",
    "    \"\"\"\n",
    "    sparql = SPARQLWrapper(service)\n",
    "    sparql.setQuery(query)\n",
    "    sparql.setReturnFormat(JSON)\n",
    "    result = sparql.query()\n",
    "\n",
    "    processed_results = json.load(result.response)\n",
    "    cols = processed_results['head']['vars']\n",
    "\n",
    "    out = []\n",
    "    for row in processed_results['results']['bindings']:\n",
    "        item = []\n",
    "        for c in cols:\n",
    "            item.append(row.get(c, {}).get('value'))\n",
    "        out.append(item)\n",
    "\n",
    "    return pd.DataFrame(out, columns=cols)\n",
    "\n"
   ]
  },
  {
   "cell_type": "code",
   "execution_count": 28,
   "id": "e66aee68c498d6e2",
   "metadata": {
    "ExecuteTime": {
     "end_time": "2024-01-04T15:14:34.908195816Z",
     "start_time": "2024-01-04T15:14:34.902626062Z"
    },
    "collapsed": false,
    "jupyter": {
     "outputs_hidden": false
    },
    "tags": []
   },
   "outputs": [],
   "source": [
    "rp1 = \"\"\"\n",
    "PREFIX rdf: <http://www.w3.org/1999/02/22-rdf-syntax-ns#>\n",
    "PREFIX rdfs: <http://www.w3.org/2000/01/rdf-schema#>\n",
    "PREFIX xsd: <http://www.w3.org/2001/XMLSchema#>\n",
    "PREFIX schema: <https://schema.org/>\n",
    "\n",
    "SELECT DISTINCT ?source ?type ?target ?sType ?tType ?sName ?tName\n",
    "WHERE {\n",
    "  ?source a ?sType .\n",
    "  OPTIONAL { ?source schema:name ?sName . }\n",
    "  \n",
    "  ?target a ?tType .\n",
    "  OPTIONAL { ?target schema:name ?tName .}\n",
    "  \n",
    "   ?source ?type ?target .\n",
    "\n",
    "}\n",
    "\"\"\"\n",
    "\n",
    "ep = \"http://0.0.0.0:7878/query\"\n",
    "\n",
    "df = get_sparql_dataframe(ep, rp1)\n"
   ]
  },
  {
   "cell_type": "code",
   "execution_count": 29,
   "id": "22a748f3-c656-440b-a9b4-a223d80552a2",
   "metadata": {
    "tags": []
   },
   "outputs": [],
   "source": [
    "df.to_parquet('inspiretypes.parquet')\n",
    "# df = pd.read_parquet('path/to/your/file.parquet')"
   ]
  },
  {
   "cell_type": "code",
   "execution_count": 30,
   "id": "a0291ad0-a1eb-4669-a716-1beb12513e80",
   "metadata": {
    "tags": []
   },
   "outputs": [
    {
     "name": "stdout",
     "output_type": "stream",
     "text": [
      "<class 'pandas.core.frame.DataFrame'>\n",
      "RangeIndex: 107 entries, 0 to 106\n",
      "Data columns (total 7 columns):\n",
      " #   Column  Non-Null Count  Dtype \n",
      "---  ------  --------------  ----- \n",
      " 0   source  107 non-null    object\n",
      " 1   type    107 non-null    object\n",
      " 2   target  107 non-null    object\n",
      " 3   sType   107 non-null    object\n",
      " 4   tType   107 non-null    object\n",
      " 5   sName   67 non-null     object\n",
      " 6   tName   50 non-null     object\n",
      "dtypes: object(7)\n",
      "memory usage: 6.0+ KB\n"
     ]
    }
   ],
   "source": [
    "df.info()"
   ]
  },
  {
   "cell_type": "code",
   "execution_count": 31,
   "id": "b8ad95d8-21cf-41c9-aef9-3d13441d471a",
   "metadata": {
    "ExecuteTime": {
     "end_time": "2024-01-04T15:14:35.601176577Z",
     "start_time": "2024-01-04T15:14:35.599025683Z"
    },
    "tags": []
   },
   "outputs": [
    {
     "data": {
      "text/html": [
       "<div>\n",
       "<style scoped>\n",
       "    .dataframe tbody tr th:only-of-type {\n",
       "        vertical-align: middle;\n",
       "    }\n",
       "\n",
       "    .dataframe tbody tr th {\n",
       "        vertical-align: top;\n",
       "    }\n",
       "\n",
       "    .dataframe thead th {\n",
       "        text-align: right;\n",
       "    }\n",
       "</style>\n",
       "<table border=\"1\" class=\"dataframe\">\n",
       "  <thead>\n",
       "    <tr style=\"text-align: right;\">\n",
       "      <th></th>\n",
       "      <th>source</th>\n",
       "      <th>type</th>\n",
       "      <th>target</th>\n",
       "      <th>sType</th>\n",
       "      <th>tType</th>\n",
       "      <th>sName</th>\n",
       "      <th>tName</th>\n",
       "    </tr>\n",
       "  </thead>\n",
       "  <tbody>\n",
       "    <tr>\n",
       "      <th>0</th>\n",
       "      <td>865d031934f04810ee2f50aea7dfe223</td>\n",
       "      <td>https://schema.org/softwareHelp</td>\n",
       "      <td>c4d9fac06ed20cdfc6eaf4882d43cccf</td>\n",
       "      <td>https://schema.org/SoftwareApplication</td>\n",
       "      <td>https://schema.org/CreativeWork</td>\n",
       "      <td>HADES (Health Analytics Data-To-Evidence Suite)</td>\n",
       "      <td>The Book of OHDSI: Chapter 13</td>\n",
       "    </tr>\n",
       "    <tr>\n",
       "      <th>1</th>\n",
       "      <td>865d031934f04810ee2f50aea7dfe223</td>\n",
       "      <td>https://aphrc.org/analysisModelDetails</td>\n",
       "      <td>62149e76f9f653b1171454f47df55073</td>\n",
       "      <td>https://schema.org/SoftwareApplication</td>\n",
       "      <td>https://schema.org/ItemList</td>\n",
       "      <td>HADES (Health Analytics Data-To-Evidence Suite)</td>\n",
       "      <td>AnalysisModelDetails</td>\n",
       "    </tr>\n",
       "    <tr>\n",
       "      <th>2</th>\n",
       "      <td>https://example.org/id/concept/317009</td>\n",
       "      <td>https://schema.org/increasesRiskOf</td>\n",
       "      <td>4d9a94d2536367cfcffd0309c4656a7</td>\n",
       "      <td>https://schema.org/MedicalRiskFactor</td>\n",
       "      <td>https://schema.org/MedicalCondition</td>\n",
       "      <td>Asthma</td>\n",
       "      <td>None</td>\n",
       "    </tr>\n",
       "    <tr>\n",
       "      <th>3</th>\n",
       "      <td>https://example.org/id/concept/317009</td>\n",
       "      <td>https://schema.org/code</td>\n",
       "      <td>881cc83b6e6490f6404ce44106eec64d</td>\n",
       "      <td>https://schema.org/MedicalRiskFactor</td>\n",
       "      <td>https://schema.org/MedicalCode</td>\n",
       "      <td>Asthma</td>\n",
       "      <td>None</td>\n",
       "    </tr>\n",
       "    <tr>\n",
       "      <th>4</th>\n",
       "      <td>https://example.org/id/concept/201820</td>\n",
       "      <td>https://schema.org/increasesRiskOf</td>\n",
       "      <td>337667295d08473627f442bc15c84963</td>\n",
       "      <td>https://schema.org/MedicalRiskFactor</td>\n",
       "      <td>https://schema.org/MedicalCondition</td>\n",
       "      <td>Diabetes mellitus</td>\n",
       "      <td>None</td>\n",
       "    </tr>\n",
       "    <tr>\n",
       "      <th>5</th>\n",
       "      <td>https://example.org/id/concept/201820</td>\n",
       "      <td>https://schema.org/code</td>\n",
       "      <td>297487b9ecb0acaf24406a2c4b2be0b6</td>\n",
       "      <td>https://schema.org/MedicalRiskFactor</td>\n",
       "      <td>https://schema.org/MedicalCode</td>\n",
       "      <td>Diabetes mellitus</td>\n",
       "      <td>None</td>\n",
       "    </tr>\n",
       "    <tr>\n",
       "      <th>6</th>\n",
       "      <td>120066d45c236713bb9ac579bab8aa5</td>\n",
       "      <td>https://schema.org/item</td>\n",
       "      <td>b2e5488b06e2e6bfbc8d2cc61374ed4</td>\n",
       "      <td>https://schema.org/ListItem</td>\n",
       "      <td>https://schema.org/SoftwareApplication</td>\n",
       "      <td>HADES</td>\n",
       "      <td>None</td>\n",
       "    </tr>\n",
       "    <tr>\n",
       "      <th>7</th>\n",
       "      <td>1175f9ab433a1866bfd4b82cebfd251d</td>\n",
       "      <td>https://schema.org/item</td>\n",
       "      <td>62ae6c73e2fe652e322605c77d15949c</td>\n",
       "      <td>https://schema.org/ListItem</td>\n",
       "      <td>https://schema.org/ItemList</td>\n",
       "      <td>OHDSIStudyPackageAggregateData</td>\n",
       "      <td>IndicatorCollections</td>\n",
       "    </tr>\n",
       "    <tr>\n",
       "      <th>8</th>\n",
       "      <td>502b2ccbc4dae9263d175ff5cd2e0754</td>\n",
       "      <td>https://schema.org/item</td>\n",
       "      <td>1d04821ed4c18279bbac6775b5094226</td>\n",
       "      <td>https://schema.org/ListItem</td>\n",
       "      <td>https://schema.org/SoftwareApplication</td>\n",
       "      <td>WebAPI</td>\n",
       "      <td>None</td>\n",
       "    </tr>\n",
       "    <tr>\n",
       "      <th>9</th>\n",
       "      <td>51d5b6c5a0f18d6edfa85714f84d0c95</td>\n",
       "      <td>https://schema.org/item</td>\n",
       "      <td>8e5ad480369ac1c9ddace45213f5c895</td>\n",
       "      <td>https://schema.org/ListItem</td>\n",
       "      <td>https://schema.org/ItemList</td>\n",
       "      <td>OHDSIStudyPackageMetadata</td>\n",
       "      <td>MachineActionableSettingByAnalysis</td>\n",
       "    </tr>\n",
       "  </tbody>\n",
       "</table>\n",
       "</div>"
      ],
      "text/plain": [
       "                                  source  \\\n",
       "0       865d031934f04810ee2f50aea7dfe223   \n",
       "1       865d031934f04810ee2f50aea7dfe223   \n",
       "2  https://example.org/id/concept/317009   \n",
       "3  https://example.org/id/concept/317009   \n",
       "4  https://example.org/id/concept/201820   \n",
       "5  https://example.org/id/concept/201820   \n",
       "6        120066d45c236713bb9ac579bab8aa5   \n",
       "7       1175f9ab433a1866bfd4b82cebfd251d   \n",
       "8       502b2ccbc4dae9263d175ff5cd2e0754   \n",
       "9       51d5b6c5a0f18d6edfa85714f84d0c95   \n",
       "\n",
       "                                     type                            target  \\\n",
       "0         https://schema.org/softwareHelp  c4d9fac06ed20cdfc6eaf4882d43cccf   \n",
       "1  https://aphrc.org/analysisModelDetails  62149e76f9f653b1171454f47df55073   \n",
       "2      https://schema.org/increasesRiskOf   4d9a94d2536367cfcffd0309c4656a7   \n",
       "3                 https://schema.org/code  881cc83b6e6490f6404ce44106eec64d   \n",
       "4      https://schema.org/increasesRiskOf  337667295d08473627f442bc15c84963   \n",
       "5                 https://schema.org/code  297487b9ecb0acaf24406a2c4b2be0b6   \n",
       "6                 https://schema.org/item   b2e5488b06e2e6bfbc8d2cc61374ed4   \n",
       "7                 https://schema.org/item  62ae6c73e2fe652e322605c77d15949c   \n",
       "8                 https://schema.org/item  1d04821ed4c18279bbac6775b5094226   \n",
       "9                 https://schema.org/item  8e5ad480369ac1c9ddace45213f5c895   \n",
       "\n",
       "                                    sType  \\\n",
       "0  https://schema.org/SoftwareApplication   \n",
       "1  https://schema.org/SoftwareApplication   \n",
       "2    https://schema.org/MedicalRiskFactor   \n",
       "3    https://schema.org/MedicalRiskFactor   \n",
       "4    https://schema.org/MedicalRiskFactor   \n",
       "5    https://schema.org/MedicalRiskFactor   \n",
       "6             https://schema.org/ListItem   \n",
       "7             https://schema.org/ListItem   \n",
       "8             https://schema.org/ListItem   \n",
       "9             https://schema.org/ListItem   \n",
       "\n",
       "                                    tType  \\\n",
       "0         https://schema.org/CreativeWork   \n",
       "1             https://schema.org/ItemList   \n",
       "2     https://schema.org/MedicalCondition   \n",
       "3          https://schema.org/MedicalCode   \n",
       "4     https://schema.org/MedicalCondition   \n",
       "5          https://schema.org/MedicalCode   \n",
       "6  https://schema.org/SoftwareApplication   \n",
       "7             https://schema.org/ItemList   \n",
       "8  https://schema.org/SoftwareApplication   \n",
       "9             https://schema.org/ItemList   \n",
       "\n",
       "                                             sName  \\\n",
       "0  HADES (Health Analytics Data-To-Evidence Suite)   \n",
       "1  HADES (Health Analytics Data-To-Evidence Suite)   \n",
       "2                                           Asthma   \n",
       "3                                           Asthma   \n",
       "4                                Diabetes mellitus   \n",
       "5                                Diabetes mellitus   \n",
       "6                                            HADES   \n",
       "7                   OHDSIStudyPackageAggregateData   \n",
       "8                                           WebAPI   \n",
       "9                        OHDSIStudyPackageMetadata   \n",
       "\n",
       "                                tName  \n",
       "0       The Book of OHDSI: Chapter 13  \n",
       "1                AnalysisModelDetails  \n",
       "2                                None  \n",
       "3                                None  \n",
       "4                                None  \n",
       "5                                None  \n",
       "6                                None  \n",
       "7                IndicatorCollections  \n",
       "8                                None  \n",
       "9  MachineActionableSettingByAnalysis  "
      ]
     },
     "execution_count": 31,
     "metadata": {},
     "output_type": "execute_result"
    }
   ],
   "source": [
    "df.head(10)"
   ]
  },
  {
   "cell_type": "code",
   "execution_count": 32,
   "id": "6edcf5a3e7e8a9d",
   "metadata": {
    "ExecuteTime": {
     "end_time": "2024-01-04T15:14:36.496745280Z",
     "start_time": "2024-01-04T15:14:36.495338175Z"
    },
    "collapsed": false,
    "jupyter": {
     "outputs_hidden": false
    },
    "tags": []
   },
   "outputs": [],
   "source": [
    "#  yeah, I get it...   don't iterate rows...  PR's welcome for this, being bad is too easy!  \n",
    "# for index, row in nodes.iterrows():\n",
    "#    g.add_node(row['Id'])\n",
    "g = GraphML()\n",
    "g.directed = False\n",
    "\n",
    "for index, row in df.iterrows():\n",
    "    n1 = g.add_node(row['source'])\n",
    "    n1['type'] = row['sType']\n",
    "    n1['name'] = row['sName']\n",
    "    \n",
    "    n2 = g.add_node(row['target'])\n",
    "    n2['type'] = row['tType']\n",
    "    n2['name'] = row['tName']\n",
    "\n",
    "    e1 = g.add_edge(n1, n2)\n",
    "    \n",
    "fname = \"./inspire.graphml\"\n",
    "parser = GraphMLParser()\n",
    "parser.write(g, fname)"
   ]
  },
  {
   "cell_type": "code",
   "execution_count": 33,
   "id": "ed7af016-bb24-43c4-84b3-e78f9f8e9cc3",
   "metadata": {
    "ExecuteTime": {
     "end_time": "2024-01-04T15:14:37.686367114Z",
     "start_time": "2024-01-04T15:14:37.682938656Z"
    },
    "tags": []
   },
   "outputs": [],
   "source": [
    "# g = nx.les_miserables_graph()\n",
    "g = nx.read_graphml(\"./inspire.graphml\")"
   ]
  },
  {
   "cell_type": "code",
   "execution_count": 34,
   "id": "633c2831-ef4d-4c88-ae42-95c3189254db",
   "metadata": {
    "ExecuteTime": {
     "end_time": "2024-01-04T15:14:38.116114415Z",
     "start_time": "2024-01-04T15:14:38.111321513Z"
    },
    "tags": []
   },
   "outputs": [
    {
     "data": {
      "application/vnd.jupyter.widget-view+json": {
       "model_id": "f2047e9c80c04dd69a9f847a6a5635f8",
       "version_major": 2,
       "version_minor": 0
      },
      "text/plain": [
       "Sigma(nx.Graph with 114 nodes and 107 edges)"
      ]
     },
     "metadata": {},
     "output_type": "display_data"
    }
   ],
   "source": [
    "Sigma(\n",
    "    g,\n",
    "    node_size=g.degree,\n",
    "    default_edge_type='curve',\n",
    "    node_border_color_from='node',\n",
    "    node_metrics=['louvain'],\n",
    "    node_color='louvain',\n",
    "    start_layout=5,\n",
    "    edge_size=lambda u, v: g.degree(u) + g.degree(v),\n",
    "    edge_size_range=(0.5, 5),\n",
    "    label_font='cursive',\n",
    "    node_label_size=g.degree,\n",
    "    label_density=0\n",
    ")\n",
    "\n"
   ]
  },
  {
   "cell_type": "code",
   "execution_count": 8,
   "id": "734d858724bd6a30",
   "metadata": {
    "ExecuteTime": {
     "end_time": "2023-12-14T14:55:11.455167413Z",
     "start_time": "2023-12-14T14:55:11.454273523Z"
    },
    "collapsed": false,
    "jupyter": {
     "outputs_hidden": false
    }
   },
   "outputs": [],
   "source": []
  },
  {
   "cell_type": "code",
   "execution_count": null,
   "id": "5ae8815403d298ad",
   "metadata": {
    "collapsed": false,
    "jupyter": {
     "outputs_hidden": false
    }
   },
   "outputs": [],
   "source": []
  }
 ],
 "metadata": {
  "kernelspec": {
   "display_name": "Python 3",
   "language": "python",
   "name": "python3"
  },
  "language_info": {
   "codemirror_mode": {
    "name": "ipython",
    "version": 3
   },
   "file_extension": ".py",
   "mimetype": "text/x-python",
   "name": "python",
   "nbconvert_exporter": "python",
   "pygments_lexer": "ipython3",
   "version": "3.10.12"
  }
 },
 "nbformat": 4,
 "nbformat_minor": 5
}
