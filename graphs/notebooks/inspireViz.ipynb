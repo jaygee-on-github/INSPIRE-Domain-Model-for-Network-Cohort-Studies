{
 "cells": [
  {
   "cell_type": "markdown",
   "id": "f3e6d6344164a35f",
   "metadata": {},
   "source": [
    "# Graph Visualization\n",
    "\n",
    "<a href=\"https://githubtocolab.com/gleanerio/archetype/blob/master/networks/commons/notebooks/networkViz.ipynb\" target=\"_parent\"><img src=\"https://colab.research.google.com/assets/colab-badge.png\" alt=\"Open in Colab\"/></a>"
   ]
  },
  {
   "cell_type": "markdown",
   "id": "a93b42e26bbe4d49",
   "metadata": {},
   "source": [
    "## requirements.txt\n"
   ]
  },
  {
   "cell_type": "code",
   "execution_count": null,
   "id": "491673eea3c08f57",
   "metadata": {
    "collapsed": false,
    "jupyter": {
     "outputs_hidden": false
    }
   },
   "outputs": [],
   "source": [
    "!pip install -q minio\n",
    "!pip install -q kglab\n",
    "!pip install -q sparqlwrapper\n",
    "!pip install -q pygraphml\n",
    "!pip install -q ipysigma"
   ]
  },
  {
   "cell_type": "code",
   "execution_count": 1,
   "id": "73ae8326ecb53b81",
   "metadata": {
    "ExecuteTime": {
     "end_time": "2024-01-04T15:14:33.169122275Z",
     "start_time": "2024-01-04T15:14:33.165947664Z"
    },
    "collapsed": false,
    "jupyter": {
     "outputs_hidden": false
    },
    "tags": []
   },
   "outputs": [],
   "source": [
    "import warnings\n",
    "warnings.simplefilter(action='ignore', category=FutureWarning)  ## remove pandas future warning\n",
    "import kglab\n",
    "from minio import Minio\n",
    "from rdflib import Graph, plugin\n",
    "import plotly.express as px\n",
    "import pandas as pd\n",
    "from urllib.request import urlopen\n",
    "import os,json\n",
    "\n",
    "from pygraphml import GraphMLParser\n",
    "from pygraphml import Graph as GraphML \n",
    "import networkx as nx\n",
    "from ipysigma import Sigma\n",
    "from SPARQLWrapper import SPARQLWrapper, JSON\n",
    "from hashlib import sha256"
   ]
  },
  {
   "cell_type": "code",
   "execution_count": 2,
   "id": "9dbf0a59-42e1-4108-a7ef-dae3cfed22ff",
   "metadata": {
    "tags": []
   },
   "outputs": [],
   "source": [
    "def hash_text(text):\n",
    "    return sha256(text.encode()).hexdigest()[:8]"
   ]
  },
  {
   "cell_type": "code",
   "execution_count": 3,
   "id": "10a8925854cddf20",
   "metadata": {
    "ExecuteTime": {
     "end_time": "2024-01-04T15:14:34.202992757Z",
     "start_time": "2024-01-04T15:14:34.197832829Z"
    },
    "collapsed": false,
    "jupyter": {
     "outputs_hidden": false
    },
    "tags": []
   },
   "outputs": [],
   "source": [
    "## Remote SPARQL server\n",
    "#@title\n",
    "def get_sparql_dataframe(service, query):\n",
    "    \"\"\"\n",
    "    Helper function to convert SPARQL results into a Pandas data frame.\n",
    "    \"\"\"\n",
    "    sparql = SPARQLWrapper(service)\n",
    "    sparql.setQuery(query)\n",
    "    sparql.setReturnFormat(JSON)\n",
    "    result = sparql.query()\n",
    "\n",
    "    processed_results = json.load(result.response)\n",
    "    cols = processed_results['head']['vars']\n",
    "\n",
    "    out = []\n",
    "    for row in processed_results['results']['bindings']:\n",
    "        item = []\n",
    "        for c in cols:\n",
    "            item.append(row.get(c, {}).get('value'))\n",
    "        out.append(item)\n",
    "\n",
    "    return pd.DataFrame(out, columns=cols)\n",
    "\n"
   ]
  },
  {
   "cell_type": "code",
   "execution_count": 45,
   "id": "e66aee68c498d6e2",
   "metadata": {
    "ExecuteTime": {
     "end_time": "2024-01-04T15:14:34.908195816Z",
     "start_time": "2024-01-04T15:14:34.902626062Z"
    },
    "collapsed": false,
    "jupyter": {
     "outputs_hidden": false
    },
    "tags": []
   },
   "outputs": [],
   "source": [
    "rp1 = \"\"\"\n",
    "PREFIX rdf: <http://www.w3.org/1999/02/22-rdf-syntax-ns#>\n",
    "PREFIX rdfs: <http://www.w3.org/2000/01/rdf-schema#>\n",
    "PREFIX xsd: <http://www.w3.org/2001/XMLSchema#>\n",
    "PREFIX schema: <https://schema.org/>\n",
    "\n",
    "SELECT DISTINCT ?source ?type ?target ?sType ?tType ?sName ?tName\n",
    "WHERE {\n",
    "  ?source a ?sType .\n",
    "  OPTIONAL { ?source schema:name ?sName . }\n",
    "  \n",
    "  ?target a ?tType .\n",
    "  OPTIONAL { ?target schema:name ?tName .}\n",
    "  \n",
    "   ?source ?type ?target .\n",
    "\n",
    "}\n",
    "\"\"\"\n",
    "\n",
    "ep = \"http://0.0.0.0:7878/query\"\n",
    "\n",
    "df = get_sparql_dataframe(ep, rp1)\n"
   ]
  },
  {
   "cell_type": "code",
   "execution_count": 46,
   "id": "22a748f3-c656-440b-a9b4-a223d80552a2",
   "metadata": {
    "tags": []
   },
   "outputs": [],
   "source": [
    "df.to_parquet('inspiretypes.parquet')\n",
    "# df = pd.read_parquet('path/to/your/file.parquet')"
   ]
  },
  {
   "cell_type": "code",
   "execution_count": 47,
   "id": "a0291ad0-a1eb-4669-a716-1beb12513e80",
   "metadata": {
    "tags": []
   },
   "outputs": [
    {
     "name": "stdout",
     "output_type": "stream",
     "text": [
      "<class 'pandas.core.frame.DataFrame'>\n",
      "RangeIndex: 115 entries, 0 to 114\n",
      "Data columns (total 7 columns):\n",
      " #   Column  Non-Null Count  Dtype \n",
      "---  ------  --------------  ----- \n",
      " 0   source  115 non-null    object\n",
      " 1   type    115 non-null    object\n",
      " 2   target  115 non-null    object\n",
      " 3   sType   115 non-null    object\n",
      " 4   tType   115 non-null    object\n",
      " 5   sName   73 non-null     object\n",
      " 6   tName   58 non-null     object\n",
      "dtypes: object(7)\n",
      "memory usage: 6.4+ KB\n"
     ]
    }
   ],
   "source": [
    "df.info()"
   ]
  },
  {
   "cell_type": "code",
   "execution_count": 48,
   "id": "b8ad95d8-21cf-41c9-aef9-3d13441d471a",
   "metadata": {
    "ExecuteTime": {
     "end_time": "2024-01-04T15:14:35.601176577Z",
     "start_time": "2024-01-04T15:14:35.599025683Z"
    },
    "tags": []
   },
   "outputs": [
    {
     "data": {
      "text/html": [
       "<div>\n",
       "<style scoped>\n",
       "    .dataframe tbody tr th:only-of-type {\n",
       "        vertical-align: middle;\n",
       "    }\n",
       "\n",
       "    .dataframe tbody tr th {\n",
       "        vertical-align: top;\n",
       "    }\n",
       "\n",
       "    .dataframe thead th {\n",
       "        text-align: right;\n",
       "    }\n",
       "</style>\n",
       "<table border=\"1\" class=\"dataframe\">\n",
       "  <thead>\n",
       "    <tr style=\"text-align: right;\">\n",
       "      <th></th>\n",
       "      <th>source</th>\n",
       "      <th>type</th>\n",
       "      <th>target</th>\n",
       "      <th>sType</th>\n",
       "      <th>tType</th>\n",
       "      <th>sName</th>\n",
       "      <th>tName</th>\n",
       "    </tr>\n",
       "  </thead>\n",
       "  <tbody>\n",
       "    <tr>\n",
       "      <th>0</th>\n",
       "      <td>c5750d9d43bd89e4be35d52609e63d83</td>\n",
       "      <td>https://schema.org/softwareHelp</td>\n",
       "      <td>fd2c3503bda483563df599f0ba1dd7ed</td>\n",
       "      <td>https://schema.org/SoftwareApplication</td>\n",
       "      <td>https://schema.org/CreativeWork</td>\n",
       "      <td>HADES (Health Analytics Data-To-Evidence Suite)</td>\n",
       "      <td>The Book of OHDSI: Chapter 13</td>\n",
       "    </tr>\n",
       "    <tr>\n",
       "      <th>1</th>\n",
       "      <td>c5750d9d43bd89e4be35d52609e63d83</td>\n",
       "      <td>https://aphrc.org/analysisModelDetails</td>\n",
       "      <td>9715e6df5aa1ab430704026bc2c72a09</td>\n",
       "      <td>https://schema.org/SoftwareApplication</td>\n",
       "      <td>https://schema.org/ItemList</td>\n",
       "      <td>HADES (Health Analytics Data-To-Evidence Suite)</td>\n",
       "      <td>AnalysisModelDetails</td>\n",
       "    </tr>\n",
       "    <tr>\n",
       "      <th>2</th>\n",
       "      <td>https://example.org/id/concept/317009</td>\n",
       "      <td>https://schema.org/increasesRiskOf</td>\n",
       "      <td>73cac76f78250f726d218144ff703615</td>\n",
       "      <td>https://schema.org/MedicalRiskFactor</td>\n",
       "      <td>https://schema.org/MedicalCondition</td>\n",
       "      <td>Asthma</td>\n",
       "      <td>None</td>\n",
       "    </tr>\n",
       "    <tr>\n",
       "      <th>3</th>\n",
       "      <td>https://example.org/id/concept/317009</td>\n",
       "      <td>https://schema.org/code</td>\n",
       "      <td>ffb86f2a3f98edbeb4ecb55a8c8ee487</td>\n",
       "      <td>https://schema.org/MedicalRiskFactor</td>\n",
       "      <td>https://schema.org/MedicalCode</td>\n",
       "      <td>Asthma</td>\n",
       "      <td>None</td>\n",
       "    </tr>\n",
       "    <tr>\n",
       "      <th>4</th>\n",
       "      <td>https://example.org/id/concept/201820</td>\n",
       "      <td>https://schema.org/increasesRiskOf</td>\n",
       "      <td>117d68aa50e4cffc8748552b8981a67a</td>\n",
       "      <td>https://schema.org/MedicalRiskFactor</td>\n",
       "      <td>https://schema.org/MedicalCondition</td>\n",
       "      <td>Diabetes mellitus</td>\n",
       "      <td>None</td>\n",
       "    </tr>\n",
       "    <tr>\n",
       "      <th>5</th>\n",
       "      <td>https://example.org/id/concept/201820</td>\n",
       "      <td>https://schema.org/code</td>\n",
       "      <td>659dba644bd3d45cb34d611363766783</td>\n",
       "      <td>https://schema.org/MedicalRiskFactor</td>\n",
       "      <td>https://schema.org/MedicalCode</td>\n",
       "      <td>Diabetes mellitus</td>\n",
       "      <td>None</td>\n",
       "    </tr>\n",
       "    <tr>\n",
       "      <th>6</th>\n",
       "      <td>12457db04750af96b849f334fc8f38fa</td>\n",
       "      <td>https://schema.org/item</td>\n",
       "      <td>803c0b091deb8901e2331b56608ad5e3</td>\n",
       "      <td>https://schema.org/ListItem</td>\n",
       "      <td>https://schema.org/MedicalIndication</td>\n",
       "      <td>None</td>\n",
       "      <td>None</td>\n",
       "    </tr>\n",
       "    <tr>\n",
       "      <th>7</th>\n",
       "      <td>188edf84febe2788731946f7448b8895</td>\n",
       "      <td>https://schema.org/item</td>\n",
       "      <td>b045b16e02a8c670544d30041e34db68</td>\n",
       "      <td>https://schema.org/ListItem</td>\n",
       "      <td>https://schema.org/ItemList</td>\n",
       "      <td>None</td>\n",
       "      <td>None</td>\n",
       "    </tr>\n",
       "    <tr>\n",
       "      <th>8</th>\n",
       "      <td>282653eef48a4ba55ba0506081e60f9b</td>\n",
       "      <td>https://schema.org/item</td>\n",
       "      <td>4828b0ed8738c740f2f44ccb9b3ac4ef</td>\n",
       "      <td>https://schema.org/ListItem</td>\n",
       "      <td>https://schema.org/SoftwareApplication</td>\n",
       "      <td>HADES</td>\n",
       "      <td>None</td>\n",
       "    </tr>\n",
       "    <tr>\n",
       "      <th>9</th>\n",
       "      <td>2e2b80b723f0f53ccc6a528c51166c10</td>\n",
       "      <td>https://schema.org/item</td>\n",
       "      <td>1aa0b03f7c735272fddeca57b8c3de13</td>\n",
       "      <td>https://schema.org/ListItem</td>\n",
       "      <td>https://schema.org/SoftwareApplication</td>\n",
       "      <td>ACHILLES</td>\n",
       "      <td>None</td>\n",
       "    </tr>\n",
       "  </tbody>\n",
       "</table>\n",
       "</div>"
      ],
      "text/plain": [
       "                                  source  \\\n",
       "0       c5750d9d43bd89e4be35d52609e63d83   \n",
       "1       c5750d9d43bd89e4be35d52609e63d83   \n",
       "2  https://example.org/id/concept/317009   \n",
       "3  https://example.org/id/concept/317009   \n",
       "4  https://example.org/id/concept/201820   \n",
       "5  https://example.org/id/concept/201820   \n",
       "6       12457db04750af96b849f334fc8f38fa   \n",
       "7       188edf84febe2788731946f7448b8895   \n",
       "8       282653eef48a4ba55ba0506081e60f9b   \n",
       "9       2e2b80b723f0f53ccc6a528c51166c10   \n",
       "\n",
       "                                     type                            target  \\\n",
       "0         https://schema.org/softwareHelp  fd2c3503bda483563df599f0ba1dd7ed   \n",
       "1  https://aphrc.org/analysisModelDetails  9715e6df5aa1ab430704026bc2c72a09   \n",
       "2      https://schema.org/increasesRiskOf  73cac76f78250f726d218144ff703615   \n",
       "3                 https://schema.org/code  ffb86f2a3f98edbeb4ecb55a8c8ee487   \n",
       "4      https://schema.org/increasesRiskOf  117d68aa50e4cffc8748552b8981a67a   \n",
       "5                 https://schema.org/code  659dba644bd3d45cb34d611363766783   \n",
       "6                 https://schema.org/item  803c0b091deb8901e2331b56608ad5e3   \n",
       "7                 https://schema.org/item  b045b16e02a8c670544d30041e34db68   \n",
       "8                 https://schema.org/item  4828b0ed8738c740f2f44ccb9b3ac4ef   \n",
       "9                 https://schema.org/item  1aa0b03f7c735272fddeca57b8c3de13   \n",
       "\n",
       "                                    sType  \\\n",
       "0  https://schema.org/SoftwareApplication   \n",
       "1  https://schema.org/SoftwareApplication   \n",
       "2    https://schema.org/MedicalRiskFactor   \n",
       "3    https://schema.org/MedicalRiskFactor   \n",
       "4    https://schema.org/MedicalRiskFactor   \n",
       "5    https://schema.org/MedicalRiskFactor   \n",
       "6             https://schema.org/ListItem   \n",
       "7             https://schema.org/ListItem   \n",
       "8             https://schema.org/ListItem   \n",
       "9             https://schema.org/ListItem   \n",
       "\n",
       "                                    tType  \\\n",
       "0         https://schema.org/CreativeWork   \n",
       "1             https://schema.org/ItemList   \n",
       "2     https://schema.org/MedicalCondition   \n",
       "3          https://schema.org/MedicalCode   \n",
       "4     https://schema.org/MedicalCondition   \n",
       "5          https://schema.org/MedicalCode   \n",
       "6    https://schema.org/MedicalIndication   \n",
       "7             https://schema.org/ItemList   \n",
       "8  https://schema.org/SoftwareApplication   \n",
       "9  https://schema.org/SoftwareApplication   \n",
       "\n",
       "                                             sName  \\\n",
       "0  HADES (Health Analytics Data-To-Evidence Suite)   \n",
       "1  HADES (Health Analytics Data-To-Evidence Suite)   \n",
       "2                                           Asthma   \n",
       "3                                           Asthma   \n",
       "4                                Diabetes mellitus   \n",
       "5                                Diabetes mellitus   \n",
       "6                                             None   \n",
       "7                                             None   \n",
       "8                                            HADES   \n",
       "9                                         ACHILLES   \n",
       "\n",
       "                           tName  \n",
       "0  The Book of OHDSI: Chapter 13  \n",
       "1           AnalysisModelDetails  \n",
       "2                           None  \n",
       "3                           None  \n",
       "4                           None  \n",
       "5                           None  \n",
       "6                           None  \n",
       "7                           None  \n",
       "8                           None  \n",
       "9                           None  "
      ]
     },
     "execution_count": 48,
     "metadata": {},
     "output_type": "execute_result"
    }
   ],
   "source": [
    "df.head(10)"
   ]
  },
  {
   "cell_type": "code",
   "execution_count": 49,
   "id": "6edcf5a3e7e8a9d",
   "metadata": {
    "ExecuteTime": {
     "end_time": "2024-01-04T15:14:36.496745280Z",
     "start_time": "2024-01-04T15:14:36.495338175Z"
    },
    "collapsed": false,
    "jupyter": {
     "outputs_hidden": false
    },
    "tags": []
   },
   "outputs": [],
   "source": [
    "#  yeah, I get it...   don't iterate rows...  PR's welcome for this, being bad is too easy!  \n",
    "# for index, row in nodes.iterrows():\n",
    "#    g.add_node(row['Id'])\n",
    "g = GraphML()\n",
    "g.directed = False\n",
    "\n",
    "for index, row in df.iterrows():\n",
    "    n1 = g.add_node(row['source'])\n",
    "    n1['type'] = row['sType']\n",
    "    n1['name'] = row['sName']\n",
    "    \n",
    "    n2 = g.add_node(row['target'])\n",
    "    n2['type'] = row['tType']\n",
    "    n2['name'] = row['tName']\n",
    "\n",
    "    e1 = g.add_edge(n1, n2)\n",
    "    \n",
    "fname = \"./inspire.graphml\"\n",
    "parser = GraphMLParser()\n",
    "parser.write(g, fname)"
   ]
  },
  {
   "cell_type": "code",
   "execution_count": 50,
   "id": "ed7af016-bb24-43c4-84b3-e78f9f8e9cc3",
   "metadata": {
    "ExecuteTime": {
     "end_time": "2024-01-04T15:14:37.686367114Z",
     "start_time": "2024-01-04T15:14:37.682938656Z"
    },
    "tags": []
   },
   "outputs": [],
   "source": [
    "# g = nx.les_miserables_graph()\n",
    "g = nx.read_graphml(\"./inspire.graphml\")"
   ]
  },
  {
   "cell_type": "code",
   "execution_count": 51,
   "id": "633c2831-ef4d-4c88-ae42-95c3189254db",
   "metadata": {
    "ExecuteTime": {
     "end_time": "2024-01-04T15:14:38.116114415Z",
     "start_time": "2024-01-04T15:14:38.111321513Z"
    },
    "tags": []
   },
   "outputs": [
    {
     "data": {
      "application/vnd.jupyter.widget-view+json": {
       "model_id": "62239c6aeb4841a4836dfb48826d7bc8",
       "version_major": 2,
       "version_minor": 0
      },
      "text/plain": [
       "Sigma(nx.Graph with 117 nodes and 115 edges)"
      ]
     },
     "metadata": {},
     "output_type": "display_data"
    }
   ],
   "source": [
    "Sigma(\n",
    "    g,\n",
    "    node_size=g.degree,\n",
    "    default_edge_type='curve',\n",
    "    node_border_color_from='node',\n",
    "    node_metrics=['louvain'],\n",
    "    node_color='louvain',\n",
    "    start_layout=5,\n",
    "    edge_size=lambda u, v: g.degree(u) + g.degree(v),\n",
    "    edge_size_range=(0.5, 5),\n",
    "    label_font='cursive',\n",
    "    node_label_size=g.degree,\n",
    "    label_density=0\n",
    ")\n",
    "\n"
   ]
  },
  {
   "cell_type": "code",
   "execution_count": 8,
   "id": "734d858724bd6a30",
   "metadata": {
    "ExecuteTime": {
     "end_time": "2023-12-14T14:55:11.455167413Z",
     "start_time": "2023-12-14T14:55:11.454273523Z"
    },
    "collapsed": false,
    "jupyter": {
     "outputs_hidden": false
    }
   },
   "outputs": [],
   "source": []
  },
  {
   "cell_type": "code",
   "execution_count": null,
   "id": "5ae8815403d298ad",
   "metadata": {
    "collapsed": false,
    "jupyter": {
     "outputs_hidden": false
    }
   },
   "outputs": [],
   "source": []
  }
 ],
 "metadata": {
  "kernelspec": {
   "display_name": "Python 3",
   "language": "python",
   "name": "python3"
  },
  "language_info": {
   "codemirror_mode": {
    "name": "ipython",
    "version": 3
   },
   "file_extension": ".py",
   "mimetype": "text/x-python",
   "name": "python",
   "nbconvert_exporter": "python",
   "pygments_lexer": "ipython3",
   "version": "3.10.12"
  }
 },
 "nbformat": 4,
 "nbformat_minor": 5
}
